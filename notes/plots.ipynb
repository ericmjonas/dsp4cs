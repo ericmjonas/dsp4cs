{
 "cells": [
  {
   "cell_type": "code",
   "execution_count": 52,
   "metadata": {
    "collapsed": false
   },
   "outputs": [
    {
     "name": "stdout",
     "output_type": "stream",
     "text": [
      "Populating the interactive namespace from numpy and matplotlib\n"
     ]
    },
    {
     "name": "stderr",
     "output_type": "stream",
     "text": [
      "WARNING: pylab import has clobbered these variables: ['f']\n",
      "`%matplotlib` prevents importing * from pylab and numpy\n"
     ]
    }
   ],
   "source": [
    "%pylab inline\n",
    "import numpy as np\n",
    "\n",
    "import seaborn as sns\n",
    "sns.set_style(\"whitegrid\")"
   ]
  },
  {
   "cell_type": "markdown",
   "metadata": {},
   "source": [
    "# Lecture 2\n"
   ]
  },
  {
   "cell_type": "code",
   "execution_count": 73,
   "metadata": {
    "collapsed": false
   },
   "outputs": [
    {
     "data": {
      "image/png": "[encoded data removed]",
      "text/plain": [
       "<matplotlib.figure.Figure at 0x10e600790>"
      ]
     },
     "metadata": {},
     "output_type": "display_data"
    }
   ],
   "source": [
    "t = np.linspace(-2, 2, 1000)\n",
    "\n",
    "T1 = 1.0\n",
    "\n",
    "def f(x):\n",
    "    y = x.copy()\n",
    "    i = np.abs(x) < T1\n",
    "    y[i] = 1.0\n",
    "    y[-i] = 0.0\n",
    "    return i \n",
    "x = np.array(f(t))\n",
    "fig, ax = plt.subplots()\n",
    " \n",
    "ax.plot(t, x, c='k')\n",
    "#ax.set_aspect('equal')\n",
    "ax.grid(False, which='both')\n",
    "sns.despine(left=True, bottom=True, right=True)\n",
    "ax.set_xticks([-T1, T1])\n",
    "ax.set_xticklabels([r'$-T_1$', r'$T_1$'], fontsize=20)\n",
    "\n",
    "\n",
    "ax.axhline(0, c='k', alpha=0.3)\n",
    "ax.axvline(0, ymin=0, ymax=0.8, c='k', alpha=0.3)\n",
    "\n",
    "ax.set_yticks([])\n",
    "ax.set_ylim(0, 1.5)\n",
    "ax.text(0, 1.3, r\"$x(t)$\", fontsize=20, horizontalalignment='center')\n",
    "fig.savefig(\"notes.02.square.pdf\")"
   ]
  },
  {
   "cell_type": "code",
   "execution_count": 79,
   "metadata": {
    "collapsed": false
   },
   "outputs": [
    {
     "data": {
      "image/png": "[encoded data removed]",
      "text/plain": [
       "<matplotlib.figure.Figure at 0x10e65d490>"
      ]
     },
     "metadata": {},
     "output_type": "display_data"
    }
   ],
   "source": [
    "w = np.linspace(-20, 20, 1000)\n",
    "x = 2* sin(w * T1) / w\n",
    "\n",
    "\n",
    "fig, ax = plt.subplots(figsize=(4, 3))\n",
    "\n",
    "ax.plot(w, x, c='k')\n",
    "\n",
    "sns.despine(left=True, bottom=True, right=True)\n",
    "ax.grid(False)\n",
    "ax.set_xticks([-np.pi/T1, np.pi/T1])\n",
    "ax.set_xticklabels([r'$-\\frac{\\pi}{T_1}$', r'$\\frac{\\pi}{T_1}$'], fontsize=20)\n",
    "ax.set_yticks([])\n",
    "ax.axhline(0, c='k', alpha=0.3)\n",
    "ax.axvline(0, c='k', alpha=0.3)\n",
    "\n",
    "ax.text(0, 2.3, r\"$X(j\\omega)$\", fontsize=20, horizontalalignment='center')\n",
    "ax.set_ylim(-0.5, 2.2)\n",
    "fig.savefig(\"notes.02.sinc.pdf\")"
   ]
  }
 ],
 "metadata": {
  "kernelspec": {
   "display_name": "Python 2",
   "language": "python",
   "name": "python2"
  },
  "language_info": {
   "codemirror_mode": {
    "name": "ipython",
    "version": 2
   },
   "file_extension": ".py",
   "mimetype": "text/x-python",
   "name": "python",
   "nbconvert_exporter": "python",
   "pygments_lexer": "ipython2",
   "version": "2.7.9"
  }
 },
 "nbformat": 4,
 "nbformat_minor": 0
}
